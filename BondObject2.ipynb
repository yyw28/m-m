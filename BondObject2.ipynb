{
 "cells": [
  {
   "cell_type": "code",
   "execution_count": 299,
   "metadata": {},
   "outputs": [],
   "source": [
    "class Bondss:\n",
    "    def __init__(self):\n",
    "        self.face = (round(np.random.uniform()*10,0)+1)*1e6\n",
    "        self.couponrate = round(np.random.uniform()/3,3)\n",
    "        self.pmtperyear = int(round(np.random.uniform(),0)+1)\n",
    "        self.years = int(round(np.random.uniform()*10,0))\n",
    "        self.y = round(np.random.uniform()/3,3)\n",
    "        self.price = 0\n",
    "        self.duration = 0\n",
    "    def Assign(self,face,couponrate,pmtperyear,years,y):\n",
    "        self.face = face\n",
    "        self.couponrate = couponrate\n",
    "        self.pmtperyear = pmtperyear\n",
    "        self.years = years\n",
    "        self.y = y\n",
    "    def Price(self):\n",
    "        face = self.face\n",
    "        couponrate = self.couponrate\n",
    "        pmtperyear = self.pmtperyear\n",
    "        years = self.years\n",
    "        y = self.y\n",
    "        \n",
    "        C = face * couponrate / pmtperyear\n",
    "        n = years * pmtperyear\n",
    "        y_eff = y/pmtperyear\n",
    "        B = 0\n",
    "        for i in range(1,n+1):\n",
    "            pv = (1+y_eff)**(-i)\n",
    "            B_i = C * pv\n",
    "            B += B_i\n",
    "        B += face * pv\n",
    "        self.price = B\n",
    "    def Duration(self):\n",
    "        face = self.face\n",
    "        couponrate = self.couponrate\n",
    "        pmtperyear = self.pmtperyear\n",
    "        years = self.years    \n",
    "        C = face * couponrate / pmtperyear\n",
    "        n = years * pmtperyear\n",
    "        y_eff = y/pmtperyear\n",
    "        B = 0\n",
    "        Btime = 0\n",
    "        for i in range(1,n+1):\n",
    "            pv = (1+y_eff)**(-i)\n",
    "            B_i = C * pv\n",
    "            B += B_i\n",
    "            Btime_i = i/2 * B_i\n",
    "            Btime += Btime_i\n",
    "        B += face * pv\n",
    "        Btime += face * pv * i/2\n",
    "        self.duration = Btime/B"
   ]
  },
  {
   "cell_type": "code",
   "execution_count": 302,
   "metadata": {},
   "outputs": [
    {
     "data": {
      "text/plain": [
       "0.089"
      ]
     },
     "execution_count": 302,
     "metadata": {},
     "output_type": "execute_result"
    }
   ],
   "source": [
    "a = Bond()\n",
    "a.y"
   ]
  },
  {
   "cell_type": "code",
   "execution_count": 303,
   "metadata": {},
   "outputs": [],
   "source": [
    "bonds = []\n",
    "n = 5\n",
    "for i in range(n):\n",
    "    bonds.append(Bond())"
   ]
  },
  {
   "cell_type": "code",
   "execution_count": 304,
   "metadata": {},
   "outputs": [],
   "source": [
    "for x in bonds:\n",
    "    x.Duration()\n",
    "    x.Price()"
   ]
  },
  {
   "cell_type": "code",
   "execution_count": 305,
   "metadata": {},
   "outputs": [],
   "source": [
    "def PortfolioDuration(bonds):\n",
    "    num = 0\n",
    "    den = 0\n",
    "    for x in bonds:\n",
    "        D_i = x.duration\n",
    "        w_i = x.price\n",
    "        num += D_i * w_i\n",
    "        den += w_i\n",
    "    return(num/den)"
   ]
  },
  {
   "cell_type": "code",
   "execution_count": 306,
   "metadata": {},
   "outputs": [
    {
     "data": {
      "text/plain": [
       "2.964389231441722"
      ]
     },
     "execution_count": 306,
     "metadata": {},
     "output_type": "execute_result"
    }
   ],
   "source": [
    "PortfolioDuration(bonds)"
   ]
  },
  {
   "cell_type": "code",
   "execution_count": null,
   "metadata": {},
   "outputs": [],
   "source": [
    "#sharing at github\n",
    "#add yield curves\n",
    "#credit spreads\n",
    "#default prob.\n",
    "#bond rating\n",
    "#incoporate credit matrix"
   ]
  }
 ],
 "metadata": {
  "kernelspec": {
   "display_name": "Python 3",
   "language": "python",
   "name": "python3"
  },
  "language_info": {
   "codemirror_mode": {
    "name": "ipython",
    "version": 3
   },
   "file_extension": ".py",
   "mimetype": "text/x-python",
   "name": "python",
   "nbconvert_exporter": "python",
   "pygments_lexer": "ipython3",
   "version": "3.7.4"
  }
 },
 "nbformat": 4,
 "nbformat_minor": 2
}
